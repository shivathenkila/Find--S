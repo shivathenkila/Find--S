{
 "cells": [
  {
   "cell_type": "code",
   "execution_count": 11,
   "metadata": {},
   "outputs": [],
   "source": [
    "import csv"
   ]
  },
  {
   "cell_type": "code",
   "execution_count": 41,
   "metadata": {},
   "outputs": [],
   "source": [
    "def getDict(key, value):\n",
    "    d = dict()\n",
    "    for i in fields[:-1]:\n",
    "        if i == key:\n",
    "            d[key] = value\n",
    "        else:\n",
    "            d[i] = \"?\"\n",
    "    return d"
   ]
  },
  {
   "cell_type": "code",
   "execution_count": 58,
   "metadata": {},
   "outputs": [],
   "source": [
    "def validateGen(g, row):\n",
    "    for key,value in row.items():\n",
    "        if key == \"Result\":\n",
    "            continue\n",
    "        if len(g) > 0:\n",
    "            for i in range(len(g)):\n",
    "                if g[i][key] == value or g[i][key] == \"?\":\n",
    "                    continue\n",
    "                else:\n",
    "                    print(\"Used once\")\n",
    "                    del(g[i])"
   ]
  },
  {
   "cell_type": "code",
   "execution_count": 59,
   "metadata": {},
   "outputs": [],
   "source": [
    "def checkGen(g, row, res):\n",
    "    for k,v in row.items():\n",
    "        if k == \"Result\":\n",
    "            continue\n",
    "        if res[k] != \"?\" and res[k] != \"@\" and res[k]!=v:\n",
    "            d = getDict(k,res[k])\n",
    "            if d not in g:\n",
    "                g.append(d)"
   ]
  },
  {
   "cell_type": "code",
   "execution_count": 60,
   "metadata": {},
   "outputs": [],
   "source": [
    "fields = [\"Weather\",\"Temp\",\"Humidity\",\"Wind\",\"Water\",\"Forecast\",\"Result\"]\n",
    "res = {}\n",
    "g = []\n",
    "for i in fields[:-1]:\n",
    "    res[i] = \"@\""
   ]
  },
  {
   "cell_type": "code",
   "execution_count": 61,
   "metadata": {},
   "outputs": [
    {
     "name": "stdout",
     "output_type": "stream",
     "text": [
      "Used once\n"
     ]
    }
   ],
   "source": [
    "with open(\"sample.csv\") as t:\n",
    "    data = csv.DictReader(t,fieldnames = fields)\n",
    "    for row in data:\n",
    "        if row[\"Result\"] == \"Yes\":\n",
    "            for field in fields[:-1]:\n",
    "                if row[field] == res[field]:\n",
    "                    continue\n",
    "                elif res[field] == \"?\":\n",
    "                    continue\n",
    "                elif res[field] == \"@\" and row[field]!='':\n",
    "                    res[field] = row[field]\n",
    "                else:\n",
    "                    res[field] = \"?\"\n",
    "            validateGen(g, row)\n",
    "        if row[\"Result\"] == \"No\":\n",
    "            checkGen(g, row, res)"
   ]
  },
  {
   "cell_type": "code",
   "execution_count": 62,
   "metadata": {},
   "outputs": [
    {
     "data": {
      "text/plain": [
       "{'Weather': 'Sunny',\n",
       " 'Temp': 'Warm',\n",
       " 'Humidity': '?',\n",
       " 'Wind': 'Strong',\n",
       " 'Water': '?',\n",
       " 'Forecast': '?'}"
      ]
     },
     "execution_count": 62,
     "metadata": {},
     "output_type": "execute_result"
    }
   ],
   "source": [
    "res"
   ]
  },
  {
   "cell_type": "code",
   "execution_count": 63,
   "metadata": {},
   "outputs": [
    {
     "data": {
      "text/plain": [
       "[{'Weather': 'Sunny',\n",
       "  'Temp': '?',\n",
       "  'Humidity': '?',\n",
       "  'Wind': '?',\n",
       "  'Water': '?',\n",
       "  'Forecast': '?'},\n",
       " {'Weather': '?',\n",
       "  'Temp': 'Warm',\n",
       "  'Humidity': '?',\n",
       "  'Wind': '?',\n",
       "  'Water': '?',\n",
       "  'Forecast': '?'}]"
      ]
     },
     "execution_count": 63,
     "metadata": {},
     "output_type": "execute_result"
    }
   ],
   "source": [
    "g"
   ]
  },
  {
   "cell_type": "code",
   "execution_count": 74,
   "metadata": {},
   "outputs": [],
   "source": [
    "def generateInter(res, g):\n",
    "    inter = []\n",
    "    for key,value in res.items():\n",
    "        if value == '?':\n",
    "            continue\n",
    "        for gen in g:\n",
    "            for k,v in gen.items():\n",
    "                if key == k or v == '?':\n",
    "                    continue\n",
    "                d = getDict(key, value)\n",
    "                d[k] = v\n",
    "                if d not in inter:\n",
    "                    inter.append(d)\n",
    "    return inter"
   ]
  },
  {
   "cell_type": "code",
   "execution_count": 75,
   "metadata": {},
   "outputs": [
    {
     "data": {
      "text/plain": [
       "[{'Weather': 'Sunny',\n",
       "  'Temp': 'Warm',\n",
       "  'Humidity': '?',\n",
       "  'Wind': '?',\n",
       "  'Water': '?',\n",
       "  'Forecast': '?'},\n",
       " {'Weather': 'Sunny',\n",
       "  'Temp': '?',\n",
       "  'Humidity': '?',\n",
       "  'Wind': 'Strong',\n",
       "  'Water': '?',\n",
       "  'Forecast': '?'},\n",
       " {'Weather': '?',\n",
       "  'Temp': 'Warm',\n",
       "  'Humidity': '?',\n",
       "  'Wind': 'Strong',\n",
       "  'Water': '?',\n",
       "  'Forecast': '?'}]"
      ]
     },
     "execution_count": 75,
     "metadata": {},
     "output_type": "execute_result"
    }
   ],
   "source": [
    "generateInter(res, g)"
   ]
  },
  {
   "cell_type": "code",
   "execution_count": null,
   "metadata": {},
   "outputs": [],
   "source": []
  }
 ],
 "metadata": {
  "kernelspec": {
   "display_name": "Python 3",
   "language": "python",
   "name": "python3"
  },
  "language_info": {
   "codemirror_mode": {
    "name": "ipython",
    "version": 3
   },
   "file_extension": ".py",
   "mimetype": "text/x-python",
   "name": "python",
   "nbconvert_exporter": "python",
   "pygments_lexer": "ipython3",
   "version": "3.6.5"
  }
 },
 "nbformat": 4,
 "nbformat_minor": 2
}
